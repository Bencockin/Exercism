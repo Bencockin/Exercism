{
 "cells": [
  {
   "cell_type": "code",
   "execution_count": 64,
   "metadata": {},
   "outputs": [],
   "source": [
    "class School:\n",
    "\n",
    "    def __init__(self):\n",
    "        self.reg = {}\n",
    "\n",
    "    def add_student(self, name, grade):\n",
    "\n",
    "        self.name = name\n",
    "        self.grade = grade\n",
    "\n",
    "        self.reg[self.name] = self.grade\n",
    "\n",
    "    def roster(self):\n",
    "\n",
    "        return sorted(self.reg)\n",
    "\n",
    "    def grade_(self, grade_number):\n",
    "\n",
    "        self.grade_number = grade_number\n",
    "\n",
    "        return [key for key, value in reg.items() if value == self.grade_number]\n"
   ]
  },
  {
   "cell_type": "code",
   "execution_count": 65,
   "metadata": {},
   "outputs": [],
   "source": [
    "school = School()"
   ]
  },
  {
   "cell_type": "code",
   "execution_count": 66,
   "metadata": {},
   "outputs": [],
   "source": [
    "school = School()\n",
    "school.add_student(name=\"Peter\", grade=2)\n",
    "school.add_student(name=\"Anna\", grade=1)\n",
    "school.add_student(name=\"Barb\", grade=1)\n",
    "school.add_student(name=\"Zoe\", grade=2)\n",
    "school.add_student(name=\"Alex\", grade=2)\n",
    "school.add_student(name=\"Jim\", grade=3)\n",
    "school.add_student(name=\"Charlie\", grade=1)"
   ]
  },
  {
   "cell_type": "code",
   "execution_count": 67,
   "metadata": {},
   "outputs": [
    {
     "data": {
      "text/plain": [
       "['Alex', 'Anna', 'Barb', 'Charlie', 'Jim', 'Peter', 'Zoe']"
      ]
     },
     "execution_count": 67,
     "metadata": {},
     "output_type": "execute_result"
    }
   ],
   "source": [
    "school.roster()"
   ]
  },
  {
   "cell_type": "code",
   "execution_count": 71,
   "metadata": {},
   "outputs": [],
   "source": [
    "test = {\"ben\": 1, \"bex\" : 1, \"sarah\" : 2, \"stu\" : 2, \"dan\" : 3}"
   ]
  },
  {
   "cell_type": "code",
   "execution_count": 70,
   "metadata": {},
   "outputs": [],
   "source": []
  },
  {
   "cell_type": "code",
   "execution_count": null,
   "metadata": {},
   "outputs": [],
   "source": []
  }
 ],
 "metadata": {
  "kernelspec": {
   "display_name": "Python 3",
   "language": "python",
   "name": "python3"
  },
  "language_info": {
   "codemirror_mode": {
    "name": "ipython",
    "version": 3
   },
   "file_extension": ".py",
   "mimetype": "text/x-python",
   "name": "python",
   "nbconvert_exporter": "python",
   "pygments_lexer": "ipython3",
   "version": "3.8.5"
  }
 },
 "nbformat": 4,
 "nbformat_minor": 4
}
