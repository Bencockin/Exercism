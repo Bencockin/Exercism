{
 "cells": [
  {
   "cell_type": "code",
   "execution_count": 356,
   "metadata": {},
   "outputs": [],
   "source": [
    "def recite(start_verse, end_verse):\n",
    "    \n",
    "    start = {\n",
    "    \n",
    "    1: \"first\",\n",
    "    2: \"second\",\n",
    "    3: \"third\",\n",
    "    4: \"fourth\",\n",
    "    5: \"fifth\",\n",
    "    6: \"sixth\",\n",
    "    7: \"seventh\",\n",
    "    8: \"eighth\",\n",
    "    9: \"nineth\",\n",
    "    10: \"tenth\",\n",
    "    11: \"eleventh\",\n",
    "    12: \"twelfth\"\n",
    "    \n",
    "        }\n",
    "    \n",
    "    end = [\n",
    "\n",
    "    'a Partridge in a Pear Tree.',\n",
    "    'two Turtle Doves, and ',\n",
    "    'three French Hens, ',\n",
    "    'four Calling Birds, ',\n",
    "    'five Gold Rings, ',\n",
    "    'six Geese-a-Laying, ',\n",
    "    'seven Swans-a-Swimming, ',\n",
    "    'eight Maids-a-Milking, ',\n",
    "    'nine Ladies Dancing, ',\n",
    "    'ten Lords-a-Leaping, ',\n",
    "    'eleven Pipers Piping, ',\n",
    "    'twelve Drummers Drumming, '\n",
    "    \n",
    "        ]\n",
    "    \n",
    "        \n",
    "    \n",
    "    end_result = \"\".join(end[:end_verse][::-1])\n",
    "    \n",
    "    print (f\"On the {start[start_verse]} day of Christmas my true love gave to me: {end_result}\")"
   ]
  },
  {
   "cell_type": "code",
   "execution_count": 360,
   "metadata": {},
   "outputs": [
    {
     "name": "stdout",
     "output_type": "stream",
     "text": [
      "On the sixth day of Christmas my true love gave to me: six Geese-a-Laying, five Gold Rings, four Calling Birds, three French Hens, two Turtle Doves, and a Partridge in a Pear Tree.\n"
     ]
    }
   ],
   "source": [
    "recite(6,6)"
   ]
  },
  {
   "cell_type": "code",
   "execution_count": 359,
   "metadata": {},
   "outputs": [],
   "source": [
    "def test(end_verse):\n",
    "    \n",
    "    end = ['a Partridge in a Pear Tree.',\n",
    " 'two Turtle Doves, and ',\n",
    " 'three French Hens, ',\n",
    " 'four Calling Birds, ',\n",
    " 'five Gold Rings, ',\n",
    " 'six Geese-a-Laying, ',\n",
    " 'seven Swans-a-Swimming, ',\n",
    " 'eight Maids-a-Milking, ',\n",
    " 'nine Ladies Dancing, ',\n",
    " 'ten Lords-a-Leaping, ',\n",
    " 'eleven Pipers Piping, ',\n",
    " 'twelve Drummers Drumming, ']\n",
    "    \n",
    "    end_result = \"\".join(end[:end_verse][::-1])\n",
    "    \n",
    "    return end_result"
   ]
  },
  {
   "cell_type": "code",
   "execution_count": 353,
   "metadata": {},
   "outputs": [
    {
     "data": {
      "text/plain": [
       "'two Turtle Doves, and a Partridge in a Pear Tree.'"
      ]
     },
     "execution_count": 353,
     "metadata": {},
     "output_type": "execute_result"
    }
   ],
   "source": [
    "test(2)"
   ]
  },
  {
   "cell_type": "code",
   "execution_count": null,
   "metadata": {},
   "outputs": [],
   "source": []
  },
  {
   "cell_type": "code",
   "execution_count": null,
   "metadata": {},
   "outputs": [],
   "source": []
  },
  {
   "cell_type": "code",
   "execution_count": null,
   "metadata": {},
   "outputs": [],
   "source": []
  },
  {
   "cell_type": "code",
   "execution_count": 269,
   "metadata": {
    "collapsed": true
   },
   "outputs": [
    {
     "data": {
      "text/plain": [
       "['first',\n",
       " 'second',\n",
       " 'third',\n",
       " 'fourth',\n",
       " 'fifth',\n",
       " 'sixth',\n",
       " 'seventh',\n",
       " 'eighth',\n",
       " 'nineth',\n",
       " 'tenth',\n",
       " 'eleventh',\n",
       " 'twelfth']"
      ]
     },
     "execution_count": 269,
     "metadata": {},
     "output_type": "execute_result"
    }
   ],
   "source": [
    "start = {\n",
    "    \n",
    "    1: \"first\",\n",
    "    2: \"second\",\n",
    "    3: \"third\",\n",
    "    4: \"fourth\",\n",
    "    5: \"fifth\",\n",
    "    6: \"sixth\",\n",
    "    7: \"seventh\",\n",
    "    8: \"eighth\",\n",
    "    9: \"nineth\",\n",
    "    10: \"tenth\",\n",
    "    11: \"eleventh\",\n",
    "    12: \"twelfth\"\n",
    "    \n",
    "        }\n"
   ]
  },
  {
   "cell_type": "code",
   "execution_count": 278,
   "metadata": {},
   "outputs": [
    {
     "data": {
      "text/plain": [
       "['first',\n",
       " 'first',\n",
       " 'first',\n",
       " 'first',\n",
       " 'first',\n",
       " 'first',\n",
       " 'first',\n",
       " 'first',\n",
       " 'first',\n",
       " 'first',\n",
       " 'first',\n",
       " 'first']"
      ]
     },
     "execution_count": 278,
     "metadata": {},
     "output_type": "execute_result"
    }
   ],
   "source": []
  },
  {
   "cell_type": "code",
   "execution_count": 309,
   "metadata": {},
   "outputs": [],
   "source": [
    "end = end[::-1]"
   ]
  },
  {
   "cell_type": "code",
   "execution_count": 320,
   "metadata": {},
   "outputs": [],
   "source": [
    "end = ['twelve Drummers Drumming, ',\n",
    " 'eleven Pipers Piping, ',\n",
    " 'ten Lords-a-Leaping, ',\n",
    " 'nine Ladies Dancing, ',\n",
    " 'eight Maids-a-Milking, ',\n",
    " 'seven Swans-a-Swimming, ',\n",
    " 'six Geese-a-Laying, ',\n",
    " 'five Gold Rings, ',\n",
    " 'four Calling Birds, ',\n",
    " 'three French Hens, ',\n",
    " 'two Turtle Doves, and ',\n",
    " 'a Partridge in a Pear Tree.']"
   ]
  },
  {
   "cell_type": "code",
   "execution_count": 323,
   "metadata": {},
   "outputs": [],
   "source": [
    "end = ['a Partridge in a Pear Tree.',\n",
    " 'two Turtle Doves, and ',\n",
    " 'three French Hens, ',\n",
    " 'four Calling Birds, ',\n",
    " 'five Gold Rings, ',\n",
    " 'six Geese-a-Laying, ',\n",
    " 'seven Swans-a-Swimming, ',\n",
    " 'eight Maids-a-Milking, ',\n",
    " 'nine Ladies Dancing, ',\n",
    " 'ten Lords-a-Leaping, ',\n",
    " 'eleven Pipers Piping, ',\n",
    " 'twelve Drummers Drumming, ']"
   ]
  },
  {
   "cell_type": "code",
   "execution_count": 340,
   "metadata": {},
   "outputs": [],
   "source": [
    "x = 4\n",
    "result = \"\".join(end[:4][::-1])"
   ]
  },
  {
   "cell_type": "code",
   "execution_count": 341,
   "metadata": {},
   "outputs": [
    {
     "name": "stdout",
     "output_type": "stream",
     "text": [
      "my true love gave to me: four Calling Birds, three French Hens, two Turtle Doves, and a Partridge in a Pear Tree.\n"
     ]
    }
   ],
   "source": [
    "print (f\"my true love gave to me: {result}\")"
   ]
  },
  {
   "cell_type": "code",
   "execution_count": 339,
   "metadata": {},
   "outputs": [
    {
     "data": {
      "text/plain": [
       "['four Calling Birds, ',\n",
       " 'three French Hens, ',\n",
       " 'two Turtle Doves, and ',\n",
       " 'a Partridge in a Pear Tree.']"
      ]
     },
     "execution_count": 339,
     "metadata": {},
     "output_type": "execute_result"
    }
   ],
   "source": [
    "end[:4:]"
   ]
  },
  {
   "cell_type": "code",
   "execution_count": 342,
   "metadata": {},
   "outputs": [
    {
     "data": {
      "text/plain": [
       "['a Partridge in a Pear Tree.',\n",
       " 'two Turtle Doves, and ',\n",
       " 'three French Hens, ',\n",
       " 'four Calling Birds, ',\n",
       " 'five Gold Rings, ',\n",
       " 'six Geese-a-Laying, ',\n",
       " 'seven Swans-a-Swimming, ',\n",
       " 'eight Maids-a-Milking, ',\n",
       " 'nine Ladies Dancing, ',\n",
       " 'ten Lords-a-Leaping, ',\n",
       " 'eleven Pipers Piping, ',\n",
       " 'twelve Drummers Drumming, ']"
      ]
     },
     "execution_count": 342,
     "metadata": {},
     "output_type": "execute_result"
    }
   ],
   "source": [
    "end"
   ]
  },
  {
   "cell_type": "code",
   "execution_count": null,
   "metadata": {},
   "outputs": [],
   "source": []
  }
 ],
 "metadata": {
  "kernelspec": {
   "display_name": "Python 3",
   "language": "python",
   "name": "python3"
  },
  "language_info": {
   "codemirror_mode": {
    "name": "ipython",
    "version": 3
   },
   "file_extension": ".py",
   "mimetype": "text/x-python",
   "name": "python",
   "nbconvert_exporter": "python",
   "pygments_lexer": "ipython3",
   "version": "3.8.3"
  }
 },
 "nbformat": 4,
 "nbformat_minor": 4
}
